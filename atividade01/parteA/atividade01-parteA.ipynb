{
 "metadata": {
  "language_info": {
   "codemirror_mode": {
    "name": "ipython",
    "version": 3
   },
   "file_extension": ".py",
   "mimetype": "text/x-python",
   "name": "python",
   "nbconvert_exporter": "python",
   "pygments_lexer": "ipython3",
   "version": "3.6.9-final"
  },
  "orig_nbformat": 2,
  "kernelspec": {
   "name": "Python 3.6.9 64-bit",
   "display_name": "Python 3.6.9 64-bit",
   "metadata": {
    "interpreter": {
     "hash": "31f2aee4e71d21fbe5cf8b01ff0e069b9275f58929596ceb00d14d90e3e16cd6"
    }
   }
  }
 },
 "nbformat": 4,
 "nbformat_minor": 2,
 "cells": [
  {
   "source": [
    "### Exercício 01"
   ],
   "cell_type": "markdown",
   "metadata": {}
  },
  {
   "source": [
    "(a) Crie uma função (em Python) que seja capaz de reduzir e/ou aumentar a resolução\n",
    "espacial de uma imagem por um fator n, que é um número real positivo (n>1 para um\n",
    "aumento da resolução espacial e n< 1 para uma redução da resolução espacial). Tal\n",
    "função deve possuir como parâmetros de entrada, o nome do arquivo da imagem para\n",
    "leitua no disco e o fator n. Para aumento da resolução utilize a técnica do **vizinho-mais-próximo** vista em sala de aula."
   ],
   "cell_type": "markdown",
   "metadata": {}
  },
  {
   "source": [
    "(b) Utilize o sua função do item anterior para gerar imagens com resolução espacial\n",
    "**reduzida** por fatores de 2, 4, 8 e 16. Em seguida, utilize o seu programa novamente para\n",
    "aumentar estas imagens de volta ao seu tamanho original. Há diferenças de qualidade\n",
    "entre estas imagens? Comente. (Obs.: Plote os resultados para que possam se\n",
    "visualizados)."
   ],
   "cell_type": "markdown",
   "metadata": {}
  },
  {
   "source": [
    "(c) Modifique a função desenvolvida em (a), de forma que seja utilizada a técnica de\n",
    "**interpolação bilinear** e refaça o que se pede no item (b) novamente. (Obs.: Plote os\n",
    "resultados para que possam se visualizados)."
   ],
   "cell_type": "markdown",
   "metadata": {}
  },
  {
   "source": [
    "### Exercício 02"
   ],
   "cell_type": "markdown",
   "metadata": {}
  },
  {
   "source": [
    "(a) Escreva uma função que realize a filtragem espacial de uma imagem. Essa função\n",
    "terá 2 parâmetros de entrada: a imagem a ser transformada e o filtro a ser utilizado."
   ],
   "cell_type": "markdown",
   "metadata": {}
  },
  {
   "source": [
    "(b) Aplique os filtros abaixo na imagem da Lena (que foi enviada com o trabalho).\n",
    "Compare os resultados obtidos para cada um dos filtros. Com base nestes resultados,\n",
    "qual o tipo de filtro (passa-alta, passa-baixa, passa-faixa, etc.) que está sendo utilizado\n",
    "em cada caso e qual o efeito de cada filtro na imagem."
   ],
   "cell_type": "markdown",
   "metadata": {}
  },
  {
   "source": [
    "(c) O filtro 1 possui tamanho 3x3. O que aconteceria se aumentássemos o tamanho do\n",
    "filtro para 11x11, 17x17 ou 35x35? De que forma o tamanho do filtro afeta a imagem?"
   ],
   "cell_type": "markdown",
   "metadata": {}
  },
  {
   "source": [
    "### Exercício 03"
   ],
   "cell_type": "markdown",
   "metadata": {}
  },
  {
   "source": [
    "(a)Converta os filtros h1 e h2 para o domínio da frequência. Visualize o **módulo** de cada\n",
    "filtro. Obs: Para visualizar melhor a resposta do filtro no domínio da frequência **desloque\n",
    "a frequência (0,0) para o centro da imagem.**"
   ],
   "cell_type": "markdown",
   "metadata": {}
  },
  {
   "source": [
    "(b) Filtre, no domínio da frequência, três imagens (diferentes e de sua escolha) com cada\n",
    "um dos dois filtros. Em seguida, calcule a transformada inversa. O resultado da **filtragem\n",
    "espacial** (use a função implementada na segunda questão para verificar o resultado da\n",
    "filtragem espacial) é o mesmo da **filtragem no domínio da frequência**? Justifique."
   ],
   "cell_type": "markdown",
   "metadata": {}
  },
  {
   "source": [
    "### Exercício 04"
   ],
   "cell_type": "markdown",
   "metadata": {}
  },
  {
   "source": [
    "(a) Tire a transformada das imagens **noiseball.png** e **footBallOrig.png** (enviadas juntas\n",
    "com a atividade). Visualize o módulo (ou magnitude) destas transformadas. Há alguma\n",
    "diferença? É possível recuperar a imagem **noiseball.png** e eliminar o ruído? Justifique\n",
    "sua resposta."
   ],
   "cell_type": "markdown",
   "metadata": {}
  },
  {
   "source": [
    "(b) Calcule a transformada inversa da imagem filtrada e visualize o resultado. Comente."
   ],
   "cell_type": "markdown",
   "metadata": {}
  }
 ]
}