{
 "metadata": {
  "language_info": {
   "codemirror_mode": {
    "name": "ipython",
    "version": 3
   },
   "file_extension": ".py",
   "mimetype": "text/x-python",
   "name": "python",
   "nbconvert_exporter": "python",
   "pygments_lexer": "ipython3",
   "version": 3
  },
  "orig_nbformat": 2
 },
 "nbformat": 4,
 "nbformat_minor": 2,
 "cells": [
  {
   "source": [
    "### Exercício 01"
   ],
   "cell_type": "markdown",
   "metadata": {}
  },
  {
   "source": [
    "Escreva um programa em que o limiar seja estimado\n",
    "automaticamente usando a técnica de Global Thresholding. A saída\n",
    "deve ser uma imagem binarizada e a entrada deve ser a imagem\n",
    "fingerPrint.png. Qual a relação que existe entre o limiar e o número\n",
    "de iterações?"
   ],
   "cell_type": "markdown",
   "metadata": {}
  },
  {
   "source": [
    "### Exercício 02"
   ],
   "cell_type": "markdown",
   "metadata": {}
  },
  {
   "source": [
    "A imagem abaixo possui círculos e quadrados de vários tamanhos.\n",
    "Alguns objetos possuem um ou dois buracos dentro deles. Faça um\n",
    "algoritmo que use operações morfológicas e lógicas para responder\n",
    "as perguntas abaixo."
   ],
   "cell_type": "markdown",
   "metadata": {}
  },
  {
   "source": [
    "(a) Que fração dos pixels da imagem são brancos? Quantos objetos a imagem possui?"
   ],
   "cell_type": "markdown",
   "metadata": {}
  },
  {
   "source": [
    "(b) Quantos buracos há na imagem? Quantos objetos têm mais de um buraco?"
   ],
   "cell_type": "markdown",
   "metadata": {}
  },
  {
   "source": [
    "(c) Quantos quadrados e círculos a imagem possui?"
   ],
   "cell_type": "markdown",
   "metadata": {}
  },
  {
   "source": [
    "(d) Identifique os quadrados que possuem buracos e os círculos que não possuem buracos."
   ],
   "cell_type": "markdown",
   "metadata": {}
  }
 ]
}